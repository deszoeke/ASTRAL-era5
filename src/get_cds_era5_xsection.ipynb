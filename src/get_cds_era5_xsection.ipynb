{
 "cells": [
  {
   "cell_type": "code",
   "execution_count": 1,
   "id": "280ada53-190d-4778-b6f0-2a81ca433651",
   "metadata": {},
   "outputs": [
    {
     "name": "stderr",
     "output_type": "stream",
     "text": [
      "\u001b[32m\u001b[1m  Activating\u001b[22m\u001b[39m project at `~/Projects/ASTRAL/era5`\n"
     ]
    }
   ],
   "source": [
    "# activate environmennnt\n",
    "using  Pkg; Pkg.activate(\"..\")\n",
    "\n",
    "# use packages\n",
    "using CDSAPI\n",
    "using NCDatasets\n",
    "using PyPlot\n",
    "using Dates"
   ]
  },
  {
   "cell_type": "code",
   "execution_count": null,
   "id": "d992f137-aa98-40c2-9946-b97d55776ef2",
   "metadata": {
    "tags": []
   },
   "outputs": [],
   "source": [
    "# download ERA5 data from Copernicus Climate Data Store CDS API\n",
    "\n",
    "# daystrings(x) = @sprintf(\"%02d\",x)\n",
    "#=\n",
    "python format list of days this way:\n",
    "[\"{:02d}\".format(x) for x in range(1, 31+1)]\n",
    "=#\n",
    "# full region\n",
    "#                             'area': [30, 40, -4, 90],\n",
    "# AD 07 mooring: 68.97 °E, 14.9 °N\n",
    "\n",
    "# May-June meridional section along 69 E, one file per year\n",
    "# for year in 2018:2023\n",
    "# for year in 2023:2023\n",
    "#     req = CDSAPI.py2ju(\"\"\"\n",
    "#                              {\n",
    "#                                  'product_type': 'reanalysis',\n",
    "#                                  'format': 'netcdf',\n",
    "#                                  'area': [30, 69, -4, 69],\n",
    "#                                  'time': '00:00',\n",
    "#                                  'month': [ '05', '06' ],\n",
    "#                                  'day':     [ '01', '02', '03', '04', '05', '06',\n",
    "#                                   '07', '08', '09', '10', '11', '12',\n",
    "#                                   '13', '14', '15', '16', '17', '18',\n",
    "#                                   '19', '20', '21', '22', '23', '24',\n",
    "#                                   '25', '26', '27', '28', '29', '30',\n",
    "#                                   '31',],\n",
    "#                                  'year': ['$(year)'],\n",
    "#                                  'pressure_level': [ '1', '2', '3', '5', '7', '10', '20', '30', '50', '70', '100', '125', '150', '175', '200', '225', '250', '300', '350', '400', '450', '500', '550', '600', '650', '700', '750', '775', '800', '825', '850', '875', '900', '925', '950', '975', '1000'],\n",
    "#                                  'variable': [ 'divergence', 'fraction_of_cloud_cover', 'geopotential',\n",
    "#                                      'potential_vorticity', 'specific_humidity', 'temperature',\n",
    "#                                      'u_component_of_wind', 'v_component_of_wind', 'vertical_velocity',\n",
    "#                                      'vorticity'],\n",
    "#                              }\n",
    "#                         \"\"\")\n",
    "\n",
    "#     # download commented out\n",
    "#     r = CDSAPI.retrieve( \"reanalysis-era5-pressure-levels\", req , \"xsct_69e_$(year).nc\" ) # saves data in .nc\n",
    "# end"
   ]
  },
  {
   "cell_type": "code",
   "execution_count": 2,
   "id": "bc62775e-0833-4753-bb3b-76946c674f87",
   "metadata": {
    "tags": []
   },
   "outputs": [
    {
     "name": "stderr",
     "output_type": "stream",
     "text": [
      "\u001b[34m\u001b[1m┌ \u001b[22m\u001b[39m\u001b[34m\u001b[1mDebug: \u001b[22m\u001b[39mPOST /api/v2/resources/reanalysis-era5-pressure-levels HTTP/1.1\n",
      "\u001b[34m\u001b[1m└ \u001b[22m\u001b[39m\u001b[90m@ HTTP.StreamRequest ~/.julia/packages/HTTP/uAaAw/src/clientlayers/StreamRequest.jl:23\u001b[39m\n",
      "\u001b[34m\u001b[1m┌ \u001b[22m\u001b[39m\u001b[34m\u001b[1mDebug: \u001b[22m\u001b[39mHTTP/1.1 202 Accepted <= (POST /api/v2/resources/reanalysis-era5-pressure-levels HTTP/1.1)\n",
      "\u001b[34m\u001b[1m└ \u001b[22m\u001b[39m\u001b[90m@ HTTP.StreamRequest ~/.julia/packages/HTTP/uAaAw/src/clientlayers/StreamRequest.jl:82\u001b[39m\n"
     ]
    },
    {
     "name": "stdout",
     "output_type": "stream",
     "text": [
      "request queue status queued\n",
      "request queue status queued\n",
      "request queue status queued\n",
      "request queue status queued\n",
      "request queue status queued\n",
      "request queue status queued\n",
      "request queue status queued\n",
      "request queue status queued\n",
      "request queue status queued\n",
      "request queue status queued\n",
      "request queue status queued\n",
      "request queue status queued\n",
      "request queue status queued\n",
      "request queue status running\n",
      "request queue status running\n",
      "request queue status running\n",
      "request queue status completed\n"
     ]
    },
    {
     "name": "stderr",
     "output_type": "stream",
     "text": [
      "\u001b[36m\u001b[1m┌ \u001b[22m\u001b[39m\u001b[36m\u001b[1mInfo: \u001b[22m\u001b[39mDownloading\n",
      "\u001b[36m\u001b[1m│ \u001b[22m\u001b[39m  source = \"https://download-0020.copernicus-climate.eu/cache-compute-0020/cache/data1/adaptor.mars.internal-1687232003.6834478-23933-9-04bbaa26-4967-42ac-82de-8f55b2cf1451.nc\"\n",
      "\u001b[36m\u001b[1m│ \u001b[22m\u001b[39m  dest = \"xsct_15n_2023.nc\"\n",
      "\u001b[36m\u001b[1m│ \u001b[22m\u001b[39m  progress = 0.0153\n",
      "\u001b[36m\u001b[1m│ \u001b[22m\u001b[39m  time_taken = \"1.05 s\"\n",
      "\u001b[36m\u001b[1m│ \u001b[22m\u001b[39m  time_remaining = \"67.38 s\"\n",
      "\u001b[36m\u001b[1m│ \u001b[22m\u001b[39m  average_speed = \"97.711 KiB/s\"\n",
      "\u001b[36m\u001b[1m│ \u001b[22m\u001b[39m  downloaded = \"102.499 KiB\"\n",
      "\u001b[36m\u001b[1m│ \u001b[22m\u001b[39m  remaining = \"6.430 MiB\"\n",
      "\u001b[36m\u001b[1m└ \u001b[22m\u001b[39m  total = \"6.530 MiB\"\n",
      "\u001b[36m\u001b[1m┌ \u001b[22m\u001b[39m\u001b[36m\u001b[1mInfo: \u001b[22m\u001b[39mDownloading\n",
      "\u001b[36m\u001b[1m│ \u001b[22m\u001b[39m  source = \"https://download-0020.copernicus-climate.eu/cache-compute-0020/cache/data1/adaptor.mars.internal-1687232003.6834478-23933-9-04bbaa26-4967-42ac-82de-8f55b2cf1451.nc\"\n",
      "\u001b[36m\u001b[1m│ \u001b[22m\u001b[39m  dest = \"xsct_15n_2023.nc\"\n",
      "\u001b[36m\u001b[1m│ \u001b[22m\u001b[39m  progress = 0.0332\n",
      "\u001b[36m\u001b[1m│ \u001b[22m\u001b[39m  time_taken = \"2.07 s\"\n",
      "\u001b[36m\u001b[1m│ \u001b[22m\u001b[39m  time_remaining = \"60.37 s\"\n",
      "\u001b[36m\u001b[1m│ \u001b[22m\u001b[39m  average_speed = \"107.090 KiB/s\"\n",
      "\u001b[36m\u001b[1m│ \u001b[22m\u001b[39m  downloaded = \"221.997 KiB\"\n",
      "\u001b[36m\u001b[1m│ \u001b[22m\u001b[39m  remaining = \"6.313 MiB\"\n",
      "\u001b[36m\u001b[1m└ \u001b[22m\u001b[39m  total = \"6.530 MiB\"\n",
      "\u001b[36m\u001b[1m┌ \u001b[22m\u001b[39m\u001b[36m\u001b[1mInfo: \u001b[22m\u001b[39mDownloading\n",
      "\u001b[36m\u001b[1m│ \u001b[22m\u001b[39m  source = \"https://download-0020.copernicus-climate.eu/cache-compute-0020/cache/data1/adaptor.mars.internal-1687232003.6834478-23933-9-04bbaa26-4967-42ac-82de-8f55b2cf1451.nc\"\n",
      "\u001b[36m\u001b[1m│ \u001b[22m\u001b[39m  dest = \"xsct_15n_2023.nc\"\n",
      "\u001b[36m\u001b[1m│ \u001b[22m\u001b[39m  progress = 0.054\n",
      "\u001b[36m\u001b[1m│ \u001b[22m\u001b[39m  time_taken = \"3.1 s\"\n",
      "\u001b[36m\u001b[1m│ \u001b[22m\u001b[39m  time_remaining = \"54.32 s\"\n",
      "\u001b[36m\u001b[1m│ \u001b[22m\u001b[39m  average_speed = \"116.458 KiB/s\"\n",
      "\u001b[36m\u001b[1m│ \u001b[22m\u001b[39m  downloaded = \"360.903 KiB\"\n",
      "\u001b[36m\u001b[1m│ \u001b[22m\u001b[39m  remaining = \"6.177 MiB\"\n",
      "\u001b[36m\u001b[1m└ \u001b[22m\u001b[39m  total = \"6.530 MiB\"\n",
      "\u001b[36m\u001b[1m┌ \u001b[22m\u001b[39m\u001b[36m\u001b[1mInfo: \u001b[22m\u001b[39mDownloading\n",
      "\u001b[36m\u001b[1m│ \u001b[22m\u001b[39m  source = \"https://download-0020.copernicus-climate.eu/cache-compute-0020/cache/data1/adaptor.mars.internal-1687232003.6834478-23933-9-04bbaa26-4967-42ac-82de-8f55b2cf1451.nc\"\n",
      "\u001b[36m\u001b[1m│ \u001b[22m\u001b[39m  dest = \"xsct_15n_2023.nc\"\n",
      "\u001b[36m\u001b[1m│ \u001b[22m\u001b[39m  progress = 0.0767\n",
      "\u001b[36m\u001b[1m│ \u001b[22m\u001b[39m  time_taken = \"4.1 s\"\n",
      "\u001b[36m\u001b[1m│ \u001b[22m\u001b[39m  time_remaining = \"49.4 s\"\n",
      "\u001b[36m\u001b[1m│ \u001b[22m\u001b[39m  average_speed = \"124.977 KiB/s\"\n",
      "\u001b[36m\u001b[1m│ \u001b[22m\u001b[39m  downloaded = \"512.903 KiB\"\n",
      "\u001b[36m\u001b[1m│ \u001b[22m\u001b[39m  remaining = \"6.029 MiB\"\n",
      "\u001b[36m\u001b[1m└ \u001b[22m\u001b[39m  total = \"6.530 MiB\"\n",
      "\u001b[36m\u001b[1m┌ \u001b[22m\u001b[39m\u001b[36m\u001b[1mInfo: \u001b[22m\u001b[39mDownloading\n",
      "\u001b[36m\u001b[1m│ \u001b[22m\u001b[39m  source = \"https://download-0020.copernicus-climate.eu/cache-compute-0020/cache/data1/adaptor.mars.internal-1687232003.6834478-23933-9-04bbaa26-4967-42ac-82de-8f55b2cf1451.nc\"\n",
      "\u001b[36m\u001b[1m│ \u001b[22m\u001b[39m  dest = \"xsct_15n_2023.nc\"\n",
      "\u001b[36m\u001b[1m│ \u001b[22m\u001b[39m  progress = 0.1012\n",
      "\u001b[36m\u001b[1m│ \u001b[22m\u001b[39m  time_taken = \"5.11 s\"\n",
      "\u001b[36m\u001b[1m│ \u001b[22m\u001b[39m  time_remaining = \"45.4 s\"\n",
      "\u001b[36m\u001b[1m│ \u001b[22m\u001b[39m  average_speed = \"132.378 KiB/s\"\n",
      "\u001b[36m\u001b[1m│ \u001b[22m\u001b[39m  downloaded = \"676.851 KiB\"\n",
      "\u001b[36m\u001b[1m│ \u001b[22m\u001b[39m  remaining = \"5.869 MiB\"\n",
      "\u001b[36m\u001b[1m└ \u001b[22m\u001b[39m  total = \"6.530 MiB\"\n",
      "\u001b[36m\u001b[1m┌ \u001b[22m\u001b[39m\u001b[36m\u001b[1mInfo: \u001b[22m\u001b[39mDownloading\n",
      "\u001b[36m\u001b[1m│ \u001b[22m\u001b[39m  source = \"https://download-0020.copernicus-climate.eu/cache-compute-0020/cache/data1/adaptor.mars.internal-1687232003.6834478-23933-9-04bbaa26-4967-42ac-82de-8f55b2cf1451.nc\"\n",
      "\u001b[36m\u001b[1m│ \u001b[22m\u001b[39m  dest = \"xsct_15n_2023.nc\"\n",
      "\u001b[36m\u001b[1m│ \u001b[22m\u001b[39m  progress = 0.1287\n",
      "\u001b[36m\u001b[1m│ \u001b[22m\u001b[39m  time_taken = \"6.15 s\"\n",
      "\u001b[36m\u001b[1m│ \u001b[22m\u001b[39m  time_remaining = \"41.62 s\"\n",
      "\u001b[36m\u001b[1m│ \u001b[22m\u001b[39m  average_speed = \"139.976 KiB/s\"\n",
      "\u001b[36m\u001b[1m│ \u001b[22m\u001b[39m  downloaded = \"860.851 KiB\"\n",
      "\u001b[36m\u001b[1m│ \u001b[22m\u001b[39m  remaining = \"5.689 MiB\"\n",
      "\u001b[36m\u001b[1m└ \u001b[22m\u001b[39m  total = \"6.530 MiB\"\n",
      "\u001b[36m\u001b[1m┌ \u001b[22m\u001b[39m\u001b[36m\u001b[1mInfo: \u001b[22m\u001b[39mDownloading\n",
      "\u001b[36m\u001b[1m│ \u001b[22m\u001b[39m  source = \"https://download-0020.copernicus-climate.eu/cache-compute-0020/cache/data1/adaptor.mars.internal-1687232003.6834478-23933-9-04bbaa26-4967-42ac-82de-8f55b2cf1451.nc\"\n",
      "\u001b[36m\u001b[1m│ \u001b[22m\u001b[39m  dest = \"xsct_15n_2023.nc\"\n",
      "\u001b[36m\u001b[1m│ \u001b[22m\u001b[39m  progress = 0.1599\n",
      "\u001b[36m\u001b[1m│ \u001b[22m\u001b[39m  time_taken = \"7.19 s\"\n",
      "\u001b[36m\u001b[1m│ \u001b[22m\u001b[39m  time_remaining = \"37.81 s\"\n",
      "\u001b[36m\u001b[1m│ \u001b[22m\u001b[39m  average_speed = \"148.575 KiB/s\"\n",
      "\u001b[36m\u001b[1m│ \u001b[22m\u001b[39m  downloaded = \"1.044 MiB\"\n",
      "\u001b[36m\u001b[1m│ \u001b[22m\u001b[39m  remaining = \"5.486 MiB\"\n",
      "\u001b[36m\u001b[1m└ \u001b[22m\u001b[39m  total = \"6.530 MiB\"\n",
      "\u001b[36m\u001b[1m┌ \u001b[22m\u001b[39m\u001b[36m\u001b[1mInfo: \u001b[22m\u001b[39mDownloading\n",
      "\u001b[36m\u001b[1m│ \u001b[22m\u001b[39m  source = \"https://download-0020.copernicus-climate.eu/cache-compute-0020/cache/data1/adaptor.mars.internal-1687232003.6834478-23933-9-04bbaa26-4967-42ac-82de-8f55b2cf1451.nc\"\n",
      "\u001b[36m\u001b[1m│ \u001b[22m\u001b[39m  dest = \"xsct_15n_2023.nc\"\n",
      "\u001b[36m\u001b[1m│ \u001b[22m\u001b[39m  progress = 0.2005\n",
      "\u001b[36m\u001b[1m│ \u001b[22m\u001b[39m  time_taken = \"8.34 s\"\n",
      "\u001b[36m\u001b[1m│ \u001b[22m\u001b[39m  time_remaining = \"33.25 s\"\n",
      "\u001b[36m\u001b[1m│ \u001b[22m\u001b[39m  average_speed = \"160.754 KiB/s\"\n",
      "\u001b[36m\u001b[1m│ \u001b[22m\u001b[39m  downloaded = \"1.309 MiB\"\n",
      "\u001b[36m\u001b[1m│ \u001b[22m\u001b[39m  remaining = \"5.220 MiB\"\n",
      "\u001b[36m\u001b[1m└ \u001b[22m\u001b[39m  total = \"6.530 MiB\"\n",
      "\u001b[36m\u001b[1m┌ \u001b[22m\u001b[39m\u001b[36m\u001b[1mInfo: \u001b[22m\u001b[39mDownloading\n",
      "\u001b[36m\u001b[1m│ \u001b[22m\u001b[39m  source = \"https://download-0020.copernicus-climate.eu/cache-compute-0020/cache/data1/adaptor.mars.internal-1687232003.6834478-23933-9-04bbaa26-4967-42ac-82de-8f55b2cf1451.nc\"\n",
      "\u001b[36m\u001b[1m│ \u001b[22m\u001b[39m  dest = \"xsct_15n_2023.nc\"\n",
      "\u001b[36m\u001b[1m│ \u001b[22m\u001b[39m  progress = 0.2532\n",
      "\u001b[36m\u001b[1m│ \u001b[22m\u001b[39m  time_taken = \"9.38 s\"\n",
      "\u001b[36m\u001b[1m│ \u001b[22m\u001b[39m  time_remaining = \"27.67 s\"\n",
      "\u001b[36m\u001b[1m│ \u001b[22m\u001b[39m  average_speed = \"180.475 KiB/s\"\n",
      "\u001b[36m\u001b[1m│ \u001b[22m\u001b[39m  downloaded = \"1.653 MiB\"\n",
      "\u001b[36m\u001b[1m│ \u001b[22m\u001b[39m  remaining = \"4.877 MiB\"\n",
      "\u001b[36m\u001b[1m└ \u001b[22m\u001b[39m  total = \"6.530 MiB\"\n",
      "\u001b[36m\u001b[1m┌ \u001b[22m\u001b[39m\u001b[36m\u001b[1mInfo: \u001b[22m\u001b[39mDownloading\n",
      "\u001b[36m\u001b[1m│ \u001b[22m\u001b[39m  source = \"https://download-0020.copernicus-climate.eu/cache-compute-0020/cache/data1/adaptor.mars.internal-1687232003.6834478-23933-9-04bbaa26-4967-42ac-82de-8f55b2cf1451.nc\"\n",
      "\u001b[36m\u001b[1m│ \u001b[22m\u001b[39m  dest = \"xsct_15n_2023.nc\"\n",
      "\u001b[36m\u001b[1m│ \u001b[22m\u001b[39m  progress = 0.3226\n",
      "\u001b[36m\u001b[1m│ \u001b[22m\u001b[39m  time_taken = \"10.38 s\"\n",
      "\u001b[36m\u001b[1m│ \u001b[22m\u001b[39m  time_remaining = \"21.8 s\"\n",
      "\u001b[36m\u001b[1m│ \u001b[22m\u001b[39m  average_speed = \"207.770 KiB/s\"\n",
      "\u001b[36m\u001b[1m│ \u001b[22m\u001b[39m  downloaded = \"2.106 MiB\"\n",
      "\u001b[36m\u001b[1m│ \u001b[22m\u001b[39m  remaining = \"4.424 MiB\"\n",
      "\u001b[36m\u001b[1m└ \u001b[22m\u001b[39m  total = \"6.530 MiB\"\n",
      "\u001b[36m\u001b[1m┌ \u001b[22m\u001b[39m\u001b[36m\u001b[1mInfo: \u001b[22m\u001b[39mDownloading\n",
      "\u001b[36m\u001b[1m│ \u001b[22m\u001b[39m  source = \"https://download-0020.copernicus-climate.eu/cache-compute-0020/cache/data1/adaptor.mars.internal-1687232003.6834478-23933-9-04bbaa26-4967-42ac-82de-8f55b2cf1451.nc\"\n",
      "\u001b[36m\u001b[1m│ \u001b[22m\u001b[39m  dest = \"xsct_15n_2023.nc\"\n",
      "\u001b[36m\u001b[1m│ \u001b[22m\u001b[39m  progress = 0.4219\n",
      "\u001b[36m\u001b[1m│ \u001b[22m\u001b[39m  time_taken = \"11.41 s\"\n",
      "\u001b[36m\u001b[1m│ \u001b[22m\u001b[39m  time_remaining = \"15.63 s\"\n",
      "\u001b[36m\u001b[1m│ \u001b[22m\u001b[39m  average_speed = \"247.312 KiB/s\"\n",
      "\u001b[36m\u001b[1m│ \u001b[22m\u001b[39m  downloaded = \"2.755 MiB\"\n",
      "\u001b[36m\u001b[1m│ \u001b[22m\u001b[39m  remaining = \"3.775 MiB\"\n",
      "\u001b[36m\u001b[1m└ \u001b[22m\u001b[39m  total = \"6.530 MiB\"\n",
      "\u001b[36m\u001b[1m┌ \u001b[22m\u001b[39m\u001b[36m\u001b[1mInfo: \u001b[22m\u001b[39mDownloading\n",
      "\u001b[36m\u001b[1m│ \u001b[22m\u001b[39m  source = \"https://download-0020.copernicus-climate.eu/cache-compute-0020/cache/data1/adaptor.mars.internal-1687232003.6834478-23933-9-04bbaa26-4967-42ac-82de-8f55b2cf1451.nc\"\n",
      "\u001b[36m\u001b[1m│ \u001b[22m\u001b[39m  dest = \"xsct_15n_2023.nc\"\n",
      "\u001b[36m\u001b[1m│ \u001b[22m\u001b[39m  progress = 0.5523\n",
      "\u001b[36m\u001b[1m│ \u001b[22m\u001b[39m  time_taken = \"12.41 s\"\n",
      "\u001b[36m\u001b[1m│ \u001b[22m\u001b[39m  time_remaining = \"10.06 s\"\n",
      "\u001b[36m\u001b[1m│ \u001b[22m\u001b[39m  average_speed = \"297.618 KiB/s\"\n",
      "\u001b[36m\u001b[1m│ \u001b[22m\u001b[39m  downloaded = \"3.606 MiB\"\n",
      "\u001b[36m\u001b[1m│ \u001b[22m\u001b[39m  remaining = \"2.924 MiB\"\n",
      "\u001b[36m\u001b[1m└ \u001b[22m\u001b[39m  total = \"6.530 MiB\"\n",
      "\u001b[36m\u001b[1m┌ \u001b[22m\u001b[39m\u001b[36m\u001b[1mInfo: \u001b[22m\u001b[39mDownloading\n",
      "\u001b[36m\u001b[1m│ \u001b[22m\u001b[39m  source = \"https://download-0020.copernicus-climate.eu/cache-compute-0020/cache/data1/adaptor.mars.internal-1687232003.6834478-23933-9-04bbaa26-4967-42ac-82de-8f55b2cf1451.nc\"\n",
      "\u001b[36m\u001b[1m│ \u001b[22m\u001b[39m  dest = \"xsct_15n_2023.nc\"\n",
      "\u001b[36m\u001b[1m│ \u001b[22m\u001b[39m  progress = 0.7485\n",
      "\u001b[36m\u001b[1m│ \u001b[22m\u001b[39m  time_taken = \"13.44 s\"\n",
      "\u001b[36m\u001b[1m│ \u001b[22m\u001b[39m  time_remaining = \"4.51 s\"\n",
      "\u001b[36m\u001b[1m│ \u001b[22m\u001b[39m  average_speed = \"372.495 KiB/s\"\n",
      "\u001b[36m\u001b[1m│ \u001b[22m\u001b[39m  downloaded = \"4.888 MiB\"\n",
      "\u001b[36m\u001b[1m│ \u001b[22m\u001b[39m  remaining = \"1.642 MiB\"\n",
      "\u001b[36m\u001b[1m└ \u001b[22m\u001b[39m  total = \"6.530 MiB\"\n",
      "\u001b[36m\u001b[1m┌ \u001b[22m\u001b[39m\u001b[36m\u001b[1mInfo: \u001b[22m\u001b[39mDownloading\n",
      "\u001b[36m\u001b[1m│ \u001b[22m\u001b[39m  source = \"https://download-0020.copernicus-climate.eu/cache-compute-0020/cache/data1/adaptor.mars.internal-1687232003.6834478-23933-9-04bbaa26-4967-42ac-82de-8f55b2cf1451.nc\"\n",
      "\u001b[36m\u001b[1m│ \u001b[22m\u001b[39m  dest = \"xsct_15n_2023.nc\"\n",
      "\u001b[36m\u001b[1m│ \u001b[22m\u001b[39m  progress = 0.9818\n",
      "\u001b[36m\u001b[1m│ \u001b[22m\u001b[39m  time_taken = \"14.44 s\"\n",
      "\u001b[36m\u001b[1m│ \u001b[22m\u001b[39m  time_remaining = \"0.27 s\"\n",
      "\u001b[36m\u001b[1m│ \u001b[22m\u001b[39m  average_speed = \"454.724 KiB/s\"\n",
      "\u001b[36m\u001b[1m│ \u001b[22m\u001b[39m  downloaded = \"6.411 MiB\"\n",
      "\u001b[36m\u001b[1m│ \u001b[22m\u001b[39m  remaining = \"121.685 KiB\"\n",
      "\u001b[36m\u001b[1m└ \u001b[22m\u001b[39m  total = \"6.530 MiB\"\n",
      "\u001b[36m\u001b[1m┌ \u001b[22m\u001b[39m\u001b[36m\u001b[1mInfo: \u001b[22m\u001b[39mDownloading\n",
      "\u001b[36m\u001b[1m│ \u001b[22m\u001b[39m  source = \"https://download-0020.copernicus-climate.eu/cache-compute-0020/cache/data1/adaptor.mars.internal-1687232003.6834478-23933-9-04bbaa26-4967-42ac-82de-8f55b2cf1451.nc\"\n",
      "\u001b[36m\u001b[1m│ \u001b[22m\u001b[39m  dest = \"xsct_15n_2023.nc\"\n",
      "\u001b[36m\u001b[1m│ \u001b[22m\u001b[39m  progress = 1.0\n",
      "\u001b[36m\u001b[1m│ \u001b[22m\u001b[39m  time_taken = \"14.46 s\"\n",
      "\u001b[36m\u001b[1m│ \u001b[22m\u001b[39m  time_remaining = \"0.0 s\"\n",
      "\u001b[36m\u001b[1m│ \u001b[22m\u001b[39m  average_speed = \"462.288 KiB/s\"\n",
      "\u001b[36m\u001b[1m│ \u001b[22m\u001b[39m  downloaded = \"6.530 MiB\"\n",
      "\u001b[36m\u001b[1m│ \u001b[22m\u001b[39m  remaining = \"0 bytes\"\n",
      "\u001b[36m\u001b[1m└ \u001b[22m\u001b[39m  total = \"6.530 MiB\"\n"
     ]
    }
   ],
   "source": [
    "# download ERA5 data from Copernicus Climate Data Store CDS API                          'area': [30, 40, -4, 90],\n",
    "# AD 07 mooring: 68.97 °E, 14.9 °N\n",
    "# May-June meridional section along 15 N, one file per year\n",
    "\n",
    "# for year in 2018:2023\n",
    "# for year in 2023:2023\n",
    "#     req = CDSAPI.py2ju(\"\"\"\n",
    "#                              {\n",
    "#                                  'product_type': 'reanalysis',\n",
    "#                                  'format': 'netcdf',\n",
    "#                                  'area': [15, 40, 15, 90],\n",
    "#                                  'time': '00:00',\n",
    "#                                  'month': [ '05', '06' ],\n",
    "#                                  'day':     [ '01', '02', '03', '04', '05', '06',\n",
    "#                                   '07', '08', '09', '10', '11', '12',\n",
    "#                                   '13', '14', '15', '16', '17', '18',\n",
    "#                                   '19', '20', '21', '22', '23', '24',\n",
    "#                                   '25', '26', '27', '28', '29', '30',\n",
    "#                                   '31',],\n",
    "#                                  'year': ['$(year)'],\n",
    "#                                  'pressure_level': [ '1', '2', '3', '5', '7', '10', '20', '30', '50', '70', '100', '125', '150', '175', '200', '225', '250', '300', '350', '400', '450', '500', '550', '600', '650', '700', '750', '775', '800', '825', '850', '875', '900', '925', '950', '975', '1000'],\n",
    "#                                  'variable': [ 'divergence', 'fraction_of_cloud_cover', 'geopotential',\n",
    "#                                      'potential_vorticity', 'specific_humidity', 'temperature',\n",
    "#                                      'u_component_of_wind', 'v_component_of_wind', 'vertical_velocity',\n",
    "#                                      'vorticity'],\n",
    "#                              }\n",
    "#                         \"\"\")\n",
    "\n",
    "#     # download commented out\n",
    "#     r = CDSAPI.retrieve( \"reanalysis-era5-pressure-levels\", req , \"xsct_15n_$(year).nc\" ) # saves data in .nc\n",
    "# end"
   ]
  },
  {
   "cell_type": "code",
   "execution_count": 6,
   "id": "f41e6fab-2a98-4f8f-a0a4-b1a953e4c457",
   "metadata": {
    "jupyter": {
     "source_hidden": true
    },
    "tags": []
   },
   "outputs": [
    {
     "data": {
      "image/png": "[encoded data removed]",
      "text/plain": [
       "Figure(PyObject <Figure size 640x480 with 1 Axes>)"
      ]
     },
     "metadata": {},
     "output_type": "display_data"
    }
   ],
   "source": [
    "# use coasts.mat to plot land outlines\n",
    "using MAT\n",
    "coast = matread(\"coast.mat\")\n",
    "# separate landmasses into individual index ranges\n",
    "ibnd = [0; findall(isnan.(coast[\"lat\"][:]) .&& isnan.(coast[\"long\"][:])); length(coast[\"lat\"])+1]\n",
    "rng = [ ibnd[k]+1 : ibnd[k+1]-1 for k in 1:length(ibnd)-1] # vector of landmass ranges\n",
    "\n",
    "\"filter only index ranges for landmasses in a lon-lat box\"\n",
    "function rng_in_lonlatbox(rng, lon, lat, lon0, lon1, lat0, lat1)\n",
    "    flt(rng) = any(lon0.<lon[rng].<lon1 .&& lat0.<lat[rng].<lat1)\n",
    "    return filter(flt, rng)\n",
    "end\n",
    "\n",
    "\"plot regional coastlines\"\n",
    "function ascoast!(ax, asrng )\n",
    "    for r in asrng\n",
    "        ax.plot(coast[\"long\"][r], coast[\"lat\"][r], color=0.7.*[1 1 1])\n",
    "    end\n",
    "end\n",
    "\n",
    "function xylim_rng( y0,y1 , x0,x1 )\n",
    "    ylim([y0, y1])\n",
    "    xlim([x0, x1])\n",
    "end\n",
    "# plot outlines of 4 Arabian Sea landmasses\n",
    "( y0,y1 , x0,x1 ) = ( -4,30 , 40,90 )\n",
    "asrng = rng_in_lonlatbox( rng, coast[\"long\"][:], coast[\"lat\"][:],  y0,y1 , x0,x1 )\n",
    "ax = subplot(1,1,1)\n",
    "ascoast!(ax, asrng)\n",
    "ylim([-4, 30])\n",
    "xlim([40, 90])\n",
    "xylim_rng( y0,y1 , x0,x1 )\n",
    "gcf()"
   ]
  },
  {
   "cell_type": "code",
   "execution_count": 8,
   "id": "1751e5ea",
   "metadata": {},
   "outputs": [
    {
     "data": {
      "image/png": "[encoded data removed]",
      "text/plain": [
       "Figure(PyObject <Figure size 640x480 with 1 Axes>)"
      ]
     },
     "metadata": {},
     "output_type": "display_data"
    }
   ],
   "source": [
    "# plot BoB coasts \n",
    "( y0,y1 , x0,x1 ) = ( 0,25 , 65,100 )\n",
    "ax = subplot(1,1,1)\n",
    "ascoast!(ax, asrng)\n",
    "ylim([-4, 30])\n",
    "xlim([40, 90])\n",
    "xylim_rng( y0,y1 , x0,x1 )\n",
    "gcf()"
   ]
  },
  {
   "cell_type": "code",
   "execution_count": 21,
   "id": "b1fbc650-9d1b-4ecc-be16-3f47a4748a17",
   "metadata": {
    "tags": []
   },
   "outputs": [
    {
     "data": {
      "text/plain": [
       "1:1"
      ]
     },
     "execution_count": 21,
     "metadata": {},
     "output_type": "execute_result"
    }
   ],
   "source": [
    "# # get data from local copy for 1 year\n",
    "myear = 2023\n",
    "it=1\n",
    "ds = NCDatasets.Dataset(\"xsct_69e_$(myear).nc\")\n",
    "ds[\"latitude\"][:], ds[\"level\"][:], permutedims(ds[var][1,:,:,15*it])\n",
    "nt = size(ds[var],4)\n",
    "1:min(floor(Int,nt/15), 4)"
   ]
  },
  {
   "cell_type": "code",
   "execution_count": 22,
   "id": "71e9a6eb-a693-48e1-87a8-09ee11808bff",
   "metadata": {
    "tags": []
   },
   "outputs": [
    {
     "data": {
      "image/png": "[encoded data removed]",
      "text/plain": [
       "Figure(PyObject <Figure size 640x480 with 2 Axes>)"
      ]
     },
     "metadata": {},
     "output_type": "display_data"
    }
   ],
   "source": [
    "# plot 4 meridional cross-section snapshots each separated by 15 d\n",
    "# May 15, 30, June 14, 29\n",
    "\n",
    "var = \"u\"\n",
    "clev = -30:5:30\n",
    "\n",
    "# for myear = 2018:2023\n",
    "for myear = 2023:2023\n",
    "    ds = NCDatasets.Dataset(\"xsct_69e_$(myear).nc\")\n",
    "    \n",
    "    clf()\n",
    "    nt = size(ds[var],4)\n",
    "    for it = 1:min(floor(Int,nt/15), 4)\n",
    "        subplot(4,1,it)\n",
    "        it == 1 && title(\"$(myear)\")\n",
    "        contourf(ds[\"latitude\"][:], ds[\"level\"][:], permutedims(ds[var][1,:,:,15*it]), \n",
    "            levels = clev,\n",
    "            vmin = -30, vmax = 30, cmap=ColorMap(\"RdYlBu_r\"))\n",
    "        colorbar()\n",
    "        ylim([1000, 100])\n",
    "        ylabel(\"$(Dates.format(DateTime(myear,05,01)+Day(15*it-1), \"U dd\"))\")\n",
    "    end\n",
    "    xlabel(\"latitude\")\n",
    "    \n",
    "    savefig(\"xsect_69e_may15-jun29_$(myear)_$(var).svg\")\n",
    "end"
   ]
  },
  {
   "cell_type": "code",
   "execution_count": null,
   "id": "9153bca7-a283-4a22-abb9-537c59892170",
   "metadata": {
    "jupyter": {
     "source_hidden": true
    },
    "tags": []
   },
   "outputs": [],
   "source": [
    "myear = 2023\n",
    "    clf()\n",
    "    for it = [1]\n",
    "        subplot(4,1,it)\n",
    "        it == 1 && title(\"$(myear)\")\n",
    "        contourf(ds[\"latitude\"][:], ds[\"level\"][:], permutedims(ds[\"u\"][1,:,:,15*it]), \n",
    "            levels = clev,\n",
    "            vmin = -30, vmax = 30, cmap=ColorMap(\"RdYlBu_r\"))\n",
    "        colorbar()\n",
    "        ylim([1000, 100])\n",
    "        ylabel(\"$(Dates.format(DateTime(myear,05,01)+Day(15*it-1), \"U dd\"))\")\n",
    "    end\n",
    "    xlabel(\"latitude\")\n",
    "    \n",
    "    savefig(\"xsect_69e_may15-jun29_$(myear).svg\")"
   ]
  },
  {
   "cell_type": "code",
   "execution_count": null,
   "id": "3bfad931-f469-4cb6-a442-01f985ed304d",
   "metadata": {},
   "outputs": [],
   "source": [
    "ds[\"v\"]"
   ]
  },
  {
   "cell_type": "code",
   "execution_count": 4,
   "id": "136b77f8-bf3a-4359-8da3-5067e02f4602",
   "metadata": {},
   "outputs": [
    {
     "ename": "LoadError",
     "evalue": "type CFVariable has no field long_name",
     "output_type": "error",
     "traceback": [
      "type CFVariable has no field long_name",
      "",
      "Stacktrace:",
      " [1] getproperty(x::CommonDataModel.CFVariable{Union{Missing, Float64}, 4, NCDatasets.Variable{Int16, 4, NCDataset{Nothing}}, NCDatasets.Attributes{NCDataset{Nothing}}, NamedTuple{(:fillvalue, :missing_values, :scale_factor, :add_offset, :calendar, :time_origin, :time_factor), Tuple{Int16, Tuple{Int16}, Float64, Float64, Nothing, Nothing, Nothing}}}, f::Symbol)",
      "   @ Base ./Base.jl:38",
      " [2] top-level scope",
      "   @ ./In[4]:15"
     ]
    }
   ],
   "source": [
    "# plot 4 zonal cross-section snapshots each separated by 15 d\n",
    "# May 15, 30, June 14, 29\n",
    "\n",
    "var = \"pv\"\n",
    "clev = -3e-4 : 0.5e-4 : 3e4\n",
    "# var = \"v\"\n",
    "# clev = -30 : 5 : 30\n",
    "\n",
    "for myear = 2018:2022\n",
    "    ds = NCDatasets.Dataset(\"xsct_15n_$(myear).nc\")\n",
    "    \n",
    "    clf()\n",
    "    for it = 1:4\n",
    "        subplot(4,1,it)\n",
    "        it == 1 && title(\"$(myear) $(ds[var].long_name)\")\n",
    "        contourf(ds[\"longitude\"][:], ds[\"level\"][:], permutedims(ds[var][:,1,:,15*it]), \n",
    "            levels = clev, vmin = clev[1], vmax = clev[end],\n",
    "            cmap=ColorMap(\"RdYlBu_r\"))\n",
    "        colorbar()\n",
    "        ylim([1000, 100])\n",
    "        ylabel(\"$(Dates.format(DateTime(myear,05,01)+Day(15*it-1), \"U dd\"))\")\n",
    "    end\n",
    "    xlabel(\"longitude\")\n",
    "    \n",
    "    savefig(\"xsect_15n_may15-jun29_$(myear)_$(var).svg\")\n",
    "end"
   ]
  },
  {
   "cell_type": "code",
   "execution_count": 5,
   "id": "c8e61247-0579-4bce-9c3b-2f4782806f92",
   "metadata": {},
   "outputs": [
    {
     "ename": "LoadError",
     "evalue": "UndefVarError: pv not defined",
     "output_type": "error",
     "traceback": [
      "UndefVarError: pv not defined",
      "",
      "Stacktrace:",
      " [1] top-level scope",
      "   @ In[5]:1"
     ]
    }
   ],
   "source": [
    "var = pv\n",
    "ds[var].long_name"
   ]
  },
  {
   "cell_type": "code",
   "execution_count": 6,
   "id": "88b33766-3baa-46d7-9788-e6002b67b2e9",
   "metadata": {},
   "outputs": [
    {
     "data": {
      "text/plain": [
       "plotas! (generic function with 3 methods)"
      ]
     },
     "execution_count": 6,
     "metadata": {},
     "output_type": "execute_result"
    }
   ],
   "source": [
    "# plot the variable\n",
    "function plotas!(ax, var, level=1, time=31)\n",
    "    ct = ax.contour(ds[\"longitude\"][:], ds[\"latitude\"][:], ds[var][:,:,level,time]', 14200:40:14800, vmin=14200, vmax=14800)\n",
    "    return ct\n",
    "end"
   ]
  },
  {
   "cell_type": "code",
   "execution_count": 7,
   "id": "bcfee651-13a2-4e34-84e0-bbf8b6cf6238",
   "metadata": {},
   "outputs": [
    {
     "ename": "LoadError",
     "evalue": "UndefVarError: ascoast! not defined",
     "output_type": "error",
     "traceback": [
      "UndefVarError: ascoast! not defined",
      "",
      "Stacktrace:",
      " [1] top-level scope",
      "   @ ./In[7]:8"
     ]
    }
   ],
   "source": [
    "# plot 5 years of Z850\n",
    "clf()\n",
    "level = 1\n",
    "for i = 1:5\n",
    "    ax = subplot(2,3, i)\n",
    "    ax.set_xlim(40, 90)\n",
    "    ax.set_ylim(-4, 30)\n",
    "    ascoast!( ax, asrng )\n",
    "    \n",
    "    year = i-1\n",
    "    time = year*(31+30)+31+4 # June 4s\n",
    "    ct = plotas!( ax, \"z\", level, time )\n",
    "    i == 5 && ct.colorbar\n",
    "    # colorbar(ct)\n",
    "    if i == 2\n",
    "        ax.set_title( \"$(Dates.format(ds[\"time\"][time], \"U d\")) $(ds[\"level\"][level]) hPa $(ds[var].attrib[\"long_name\"]) $(ds[var].attrib[\"units\"])\\n $(Dates.year(ds[\"time\"][time]))\" )\n",
    "    else\n",
    "        ax.set_title( \"$(Dates.year(ds[\"time\"][time]))\" )\n",
    "    end\n",
    "end\n",
    "tight_layout()"
   ]
  },
  {
   "cell_type": "code",
   "execution_count": 8,
   "id": "4541d0c1-9446-4721-9011-bea067d6b9a4",
   "metadata": {},
   "outputs": [
    {
     "ename": "LoadError",
     "evalue": "UndefVarError: ascoast! not defined",
     "output_type": "error",
     "traceback": [
      "UndefVarError: ascoast! not defined",
      "",
      "Stacktrace:",
      " [1] top-level scope",
      "   @ ./In[8]:11"
     ]
    }
   ],
   "source": [
    "# plot 5 years of vorticity at 850 hPa\n",
    "\n",
    "level = 1\n",
    "var = \"vo\"\n",
    "\n",
    "clf()\n",
    "for i = 1:5\n",
    "    ax = subplot(2,3, i)\n",
    "    ax.set_xlim(40, 90)\n",
    "    ax.set_ylim(-4, 30)\n",
    "    ascoast!( ax, asrng )\n",
    "    \n",
    "    year = i-1\n",
    "    time = year*(31+30)+31+4 # June 4s\n",
    "    ct = ax.contourf(ds[\"longitude\"][:], ds[\"latitude\"][:], \n",
    "          ds[var][:,:,level,time]', -1.5e-4:3e-5:3e-4,\n",
    "        cmap = ColorMap(\"RdYlBu_r\")) #, 16, vmin=-1.5e-4, vmax=1.5e4)\n",
    "    i == 5 && colorbar(ct)\n",
    "    # colorbar(ct)\n",
    "    if i == 2\n",
    "        ax.set_title( \"$(Dates.format(ds[\"time\"][time], \"U d\")) $(ds[\"level\"][level]) hPa $(ds[var].attrib[\"long_name\"]) $(ds[var].attrib[\"units\"])\\n $(Dates.year(ds[\"time\"][time]))\" )\n",
    "    else\n",
    "        ax.set_title( \"$(Dates.year(ds[\"time\"][time]))\" )\n",
    "    end\n",
    "end\n",
    "tight_layout()"
   ]
  },
  {
   "cell_type": "code",
   "execution_count": null,
   "id": "baff5031-1b6c-47c1-b6cc-1dd75cb6851e",
   "metadata": {},
   "outputs": [],
   "source": []
  }
 ],
 "metadata": {
  "jupytext": {
   "encoding": "# -*- coding: utf-8 -*-",
   "formats": "ipynb,jl:percent"
  },
  "kernelspec": {
   "display_name": "Julia 1.10.5",
   "language": "julia",
   "name": "julia-1.10"
  },
  "language_info": {
   "file_extension": ".jl",
   "mimetype": "application/julia",
   "name": "julia",
   "version": "1.10.5"
  }
 },
 "nbformat": 4,
 "nbformat_minor": 5
}
